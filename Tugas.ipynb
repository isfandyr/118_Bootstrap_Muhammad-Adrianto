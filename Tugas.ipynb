{
  "nbformat": 4,
  "nbformat_minor": 0,
  "metadata": {
    "colab": {
      "provenance": [],
      "authorship_tag": "ABX9TyPNxkPMNeS5S2QInHq4LAwP",
      "include_colab_link": true
    },
    "kernelspec": {
      "name": "python3",
      "display_name": "Python 3"
    },
    "language_info": {
      "name": "python"
    }
  },
  "cells": [
    {
      "cell_type": "markdown",
      "metadata": {
        "id": "view-in-github",
        "colab_type": "text"
      },
      "source": [
        "<a href=\"https://colab.research.google.com/github/isfandyr/118_Bootstrap_Muhammad-Adrianto/blob/main/Tugas.ipynb\" target=\"_parent\"><img src=\"https://colab.research.google.com/assets/colab-badge.svg\" alt=\"Open In Colab\"/></a>"
      ]
    },
    {
      "cell_type": "code",
      "execution_count": 10,
      "metadata": {
        "colab": {
          "base_uri": "https://localhost:8080/"
        },
        "id": "ZuknYdsXgMeU",
        "outputId": "8d938edd-b52d-4fc4-86bc-dfd67cf1b6ff"
      },
      "outputs": [
        {
          "output_type": "stream",
          "name": "stdout",
          "text": [
            "Drive already mounted at /content/drive; to attempt to forcibly remount, call drive.mount(\"/content/drive\", force_remount=True).\n"
          ]
        }
      ],
      "source": [
        "from google.colab import drive\n",
        "drive.mount('/content/drive')"
      ]
    },
    {
      "cell_type": "code",
      "source": [
        "import numpy as np\n",
        "import pandas as pd"
      ],
      "metadata": {
        "id": "TuJRQESOhHuA"
      },
      "execution_count": 11,
      "outputs": []
    },
    {
      "cell_type": "code",
      "source": [
        "ds = pd.read_csv('/content/drive/MyDrive/Tugas/Data Intelligent Irrigation System.csv')\n",
        "ds"
      ],
      "metadata": {
        "colab": {
          "base_uri": "https://localhost:8080/",
          "height": 423
        },
        "id": "QjSbapdJgt3V",
        "outputId": "a056be45-0d27-4479-be67-b4ceac17fb72"
      },
      "execution_count": 12,
      "outputs": [
        {
          "output_type": "execute_result",
          "data": {
            "text/plain": [
              "       crop  moisture  temp  pump\n",
              "0    cotton       638    16     1\n",
              "1    cotton       522    18     1\n",
              "2    cotton       741    22     1\n",
              "3    cotton       798    32     1\n",
              "4    cotton       690    28     1\n",
              "..      ...       ...   ...   ...\n",
              "195  cotton       941    13     1\n",
              "196  cotton       902    45     1\n",
              "197  cotton       894    42     1\n",
              "198  cotton      1022    45     1\n",
              "199  cotton       979    10     1\n",
              "\n",
              "[200 rows x 4 columns]"
            ],
            "text/html": [
              "\n",
              "  <div id=\"df-9fd90cd5-338a-43d4-9bca-89ab44229cc2\" class=\"colab-df-container\">\n",
              "    <div>\n",
              "<style scoped>\n",
              "    .dataframe tbody tr th:only-of-type {\n",
              "        vertical-align: middle;\n",
              "    }\n",
              "\n",
              "    .dataframe tbody tr th {\n",
              "        vertical-align: top;\n",
              "    }\n",
              "\n",
              "    .dataframe thead th {\n",
              "        text-align: right;\n",
              "    }\n",
              "</style>\n",
              "<table border=\"1\" class=\"dataframe\">\n",
              "  <thead>\n",
              "    <tr style=\"text-align: right;\">\n",
              "      <th></th>\n",
              "      <th>crop</th>\n",
              "      <th>moisture</th>\n",
              "      <th>temp</th>\n",
              "      <th>pump</th>\n",
              "    </tr>\n",
              "  </thead>\n",
              "  <tbody>\n",
              "    <tr>\n",
              "      <th>0</th>\n",
              "      <td>cotton</td>\n",
              "      <td>638</td>\n",
              "      <td>16</td>\n",
              "      <td>1</td>\n",
              "    </tr>\n",
              "    <tr>\n",
              "      <th>1</th>\n",
              "      <td>cotton</td>\n",
              "      <td>522</td>\n",
              "      <td>18</td>\n",
              "      <td>1</td>\n",
              "    </tr>\n",
              "    <tr>\n",
              "      <th>2</th>\n",
              "      <td>cotton</td>\n",
              "      <td>741</td>\n",
              "      <td>22</td>\n",
              "      <td>1</td>\n",
              "    </tr>\n",
              "    <tr>\n",
              "      <th>3</th>\n",
              "      <td>cotton</td>\n",
              "      <td>798</td>\n",
              "      <td>32</td>\n",
              "      <td>1</td>\n",
              "    </tr>\n",
              "    <tr>\n",
              "      <th>4</th>\n",
              "      <td>cotton</td>\n",
              "      <td>690</td>\n",
              "      <td>28</td>\n",
              "      <td>1</td>\n",
              "    </tr>\n",
              "    <tr>\n",
              "      <th>...</th>\n",
              "      <td>...</td>\n",
              "      <td>...</td>\n",
              "      <td>...</td>\n",
              "      <td>...</td>\n",
              "    </tr>\n",
              "    <tr>\n",
              "      <th>195</th>\n",
              "      <td>cotton</td>\n",
              "      <td>941</td>\n",
              "      <td>13</td>\n",
              "      <td>1</td>\n",
              "    </tr>\n",
              "    <tr>\n",
              "      <th>196</th>\n",
              "      <td>cotton</td>\n",
              "      <td>902</td>\n",
              "      <td>45</td>\n",
              "      <td>1</td>\n",
              "    </tr>\n",
              "    <tr>\n",
              "      <th>197</th>\n",
              "      <td>cotton</td>\n",
              "      <td>894</td>\n",
              "      <td>42</td>\n",
              "      <td>1</td>\n",
              "    </tr>\n",
              "    <tr>\n",
              "      <th>198</th>\n",
              "      <td>cotton</td>\n",
              "      <td>1022</td>\n",
              "      <td>45</td>\n",
              "      <td>1</td>\n",
              "    </tr>\n",
              "    <tr>\n",
              "      <th>199</th>\n",
              "      <td>cotton</td>\n",
              "      <td>979</td>\n",
              "      <td>10</td>\n",
              "      <td>1</td>\n",
              "    </tr>\n",
              "  </tbody>\n",
              "</table>\n",
              "<p>200 rows × 4 columns</p>\n",
              "</div>\n",
              "    <div class=\"colab-df-buttons\">\n",
              "\n",
              "  <div class=\"colab-df-container\">\n",
              "    <button class=\"colab-df-convert\" onclick=\"convertToInteractive('df-9fd90cd5-338a-43d4-9bca-89ab44229cc2')\"\n",
              "            title=\"Convert this dataframe to an interactive table.\"\n",
              "            style=\"display:none;\">\n",
              "\n",
              "  <svg xmlns=\"http://www.w3.org/2000/svg\" height=\"24px\" viewBox=\"0 -960 960 960\">\n",
              "    <path d=\"M120-120v-720h720v720H120Zm60-500h600v-160H180v160Zm220 220h160v-160H400v160Zm0 220h160v-160H400v160ZM180-400h160v-160H180v160Zm440 0h160v-160H620v160ZM180-180h160v-160H180v160Zm440 0h160v-160H620v160Z\"/>\n",
              "  </svg>\n",
              "    </button>\n",
              "\n",
              "  <style>\n",
              "    .colab-df-container {\n",
              "      display:flex;\n",
              "      gap: 12px;\n",
              "    }\n",
              "\n",
              "    .colab-df-convert {\n",
              "      background-color: #E8F0FE;\n",
              "      border: none;\n",
              "      border-radius: 50%;\n",
              "      cursor: pointer;\n",
              "      display: none;\n",
              "      fill: #1967D2;\n",
              "      height: 32px;\n",
              "      padding: 0 0 0 0;\n",
              "      width: 32px;\n",
              "    }\n",
              "\n",
              "    .colab-df-convert:hover {\n",
              "      background-color: #E2EBFA;\n",
              "      box-shadow: 0px 1px 2px rgba(60, 64, 67, 0.3), 0px 1px 3px 1px rgba(60, 64, 67, 0.15);\n",
              "      fill: #174EA6;\n",
              "    }\n",
              "\n",
              "    .colab-df-buttons div {\n",
              "      margin-bottom: 4px;\n",
              "    }\n",
              "\n",
              "    [theme=dark] .colab-df-convert {\n",
              "      background-color: #3B4455;\n",
              "      fill: #D2E3FC;\n",
              "    }\n",
              "\n",
              "    [theme=dark] .colab-df-convert:hover {\n",
              "      background-color: #434B5C;\n",
              "      box-shadow: 0px 1px 3px 1px rgba(0, 0, 0, 0.15);\n",
              "      filter: drop-shadow(0px 1px 2px rgba(0, 0, 0, 0.3));\n",
              "      fill: #FFFFFF;\n",
              "    }\n",
              "  </style>\n",
              "\n",
              "    <script>\n",
              "      const buttonEl =\n",
              "        document.querySelector('#df-9fd90cd5-338a-43d4-9bca-89ab44229cc2 button.colab-df-convert');\n",
              "      buttonEl.style.display =\n",
              "        google.colab.kernel.accessAllowed ? 'block' : 'none';\n",
              "\n",
              "      async function convertToInteractive(key) {\n",
              "        const element = document.querySelector('#df-9fd90cd5-338a-43d4-9bca-89ab44229cc2');\n",
              "        const dataTable =\n",
              "          await google.colab.kernel.invokeFunction('convertToInteractive',\n",
              "                                                    [key], {});\n",
              "        if (!dataTable) return;\n",
              "\n",
              "        const docLinkHtml = 'Like what you see? Visit the ' +\n",
              "          '<a target=\"_blank\" href=https://colab.research.google.com/notebooks/data_table.ipynb>data table notebook</a>'\n",
              "          + ' to learn more about interactive tables.';\n",
              "        element.innerHTML = '';\n",
              "        dataTable['output_type'] = 'display_data';\n",
              "        await google.colab.output.renderOutput(dataTable, element);\n",
              "        const docLink = document.createElement('div');\n",
              "        docLink.innerHTML = docLinkHtml;\n",
              "        element.appendChild(docLink);\n",
              "      }\n",
              "    </script>\n",
              "  </div>\n",
              "\n",
              "\n",
              "<div id=\"df-c58561fa-1843-456c-b512-bb24338f2ac4\">\n",
              "  <button class=\"colab-df-quickchart\" onclick=\"quickchart('df-c58561fa-1843-456c-b512-bb24338f2ac4')\"\n",
              "            title=\"Suggest charts.\"\n",
              "            style=\"display:none;\">\n",
              "\n",
              "<svg xmlns=\"http://www.w3.org/2000/svg\" height=\"24px\"viewBox=\"0 0 24 24\"\n",
              "     width=\"24px\">\n",
              "    <g>\n",
              "        <path d=\"M19 3H5c-1.1 0-2 .9-2 2v14c0 1.1.9 2 2 2h14c1.1 0 2-.9 2-2V5c0-1.1-.9-2-2-2zM9 17H7v-7h2v7zm4 0h-2V7h2v10zm4 0h-2v-4h2v4z\"/>\n",
              "    </g>\n",
              "</svg>\n",
              "  </button>\n",
              "\n",
              "<style>\n",
              "  .colab-df-quickchart {\n",
              "      --bg-color: #E8F0FE;\n",
              "      --fill-color: #1967D2;\n",
              "      --hover-bg-color: #E2EBFA;\n",
              "      --hover-fill-color: #174EA6;\n",
              "      --disabled-fill-color: #AAA;\n",
              "      --disabled-bg-color: #DDD;\n",
              "  }\n",
              "\n",
              "  [theme=dark] .colab-df-quickchart {\n",
              "      --bg-color: #3B4455;\n",
              "      --fill-color: #D2E3FC;\n",
              "      --hover-bg-color: #434B5C;\n",
              "      --hover-fill-color: #FFFFFF;\n",
              "      --disabled-bg-color: #3B4455;\n",
              "      --disabled-fill-color: #666;\n",
              "  }\n",
              "\n",
              "  .colab-df-quickchart {\n",
              "    background-color: var(--bg-color);\n",
              "    border: none;\n",
              "    border-radius: 50%;\n",
              "    cursor: pointer;\n",
              "    display: none;\n",
              "    fill: var(--fill-color);\n",
              "    height: 32px;\n",
              "    padding: 0;\n",
              "    width: 32px;\n",
              "  }\n",
              "\n",
              "  .colab-df-quickchart:hover {\n",
              "    background-color: var(--hover-bg-color);\n",
              "    box-shadow: 0 1px 2px rgba(60, 64, 67, 0.3), 0 1px 3px 1px rgba(60, 64, 67, 0.15);\n",
              "    fill: var(--button-hover-fill-color);\n",
              "  }\n",
              "\n",
              "  .colab-df-quickchart-complete:disabled,\n",
              "  .colab-df-quickchart-complete:disabled:hover {\n",
              "    background-color: var(--disabled-bg-color);\n",
              "    fill: var(--disabled-fill-color);\n",
              "    box-shadow: none;\n",
              "  }\n",
              "\n",
              "  .colab-df-spinner {\n",
              "    border: 2px solid var(--fill-color);\n",
              "    border-color: transparent;\n",
              "    border-bottom-color: var(--fill-color);\n",
              "    animation:\n",
              "      spin 1s steps(1) infinite;\n",
              "  }\n",
              "\n",
              "  @keyframes spin {\n",
              "    0% {\n",
              "      border-color: transparent;\n",
              "      border-bottom-color: var(--fill-color);\n",
              "      border-left-color: var(--fill-color);\n",
              "    }\n",
              "    20% {\n",
              "      border-color: transparent;\n",
              "      border-left-color: var(--fill-color);\n",
              "      border-top-color: var(--fill-color);\n",
              "    }\n",
              "    30% {\n",
              "      border-color: transparent;\n",
              "      border-left-color: var(--fill-color);\n",
              "      border-top-color: var(--fill-color);\n",
              "      border-right-color: var(--fill-color);\n",
              "    }\n",
              "    40% {\n",
              "      border-color: transparent;\n",
              "      border-right-color: var(--fill-color);\n",
              "      border-top-color: var(--fill-color);\n",
              "    }\n",
              "    60% {\n",
              "      border-color: transparent;\n",
              "      border-right-color: var(--fill-color);\n",
              "    }\n",
              "    80% {\n",
              "      border-color: transparent;\n",
              "      border-right-color: var(--fill-color);\n",
              "      border-bottom-color: var(--fill-color);\n",
              "    }\n",
              "    90% {\n",
              "      border-color: transparent;\n",
              "      border-bottom-color: var(--fill-color);\n",
              "    }\n",
              "  }\n",
              "</style>\n",
              "\n",
              "  <script>\n",
              "    async function quickchart(key) {\n",
              "      const quickchartButtonEl =\n",
              "        document.querySelector('#' + key + ' button');\n",
              "      quickchartButtonEl.disabled = true;  // To prevent multiple clicks.\n",
              "      quickchartButtonEl.classList.add('colab-df-spinner');\n",
              "      try {\n",
              "        const charts = await google.colab.kernel.invokeFunction(\n",
              "            'suggestCharts', [key], {});\n",
              "      } catch (error) {\n",
              "        console.error('Error during call to suggestCharts:', error);\n",
              "      }\n",
              "      quickchartButtonEl.classList.remove('colab-df-spinner');\n",
              "      quickchartButtonEl.classList.add('colab-df-quickchart-complete');\n",
              "    }\n",
              "    (() => {\n",
              "      let quickchartButtonEl =\n",
              "        document.querySelector('#df-c58561fa-1843-456c-b512-bb24338f2ac4 button');\n",
              "      quickchartButtonEl.style.display =\n",
              "        google.colab.kernel.accessAllowed ? 'block' : 'none';\n",
              "    })();\n",
              "  </script>\n",
              "</div>\n",
              "    </div>\n",
              "  </div>\n"
            ]
          },
          "metadata": {},
          "execution_count": 12
        }
      ]
    },
    {
      "cell_type": "code",
      "source": [
        "ds.info()"
      ],
      "metadata": {
        "colab": {
          "base_uri": "https://localhost:8080/"
        },
        "id": "T26F5FgXhOZA",
        "outputId": "2252713a-691b-4f2f-8074-b8c6d28e4f8a"
      },
      "execution_count": 13,
      "outputs": [
        {
          "output_type": "stream",
          "name": "stdout",
          "text": [
            "<class 'pandas.core.frame.DataFrame'>\n",
            "RangeIndex: 200 entries, 0 to 199\n",
            "Data columns (total 4 columns):\n",
            " #   Column    Non-Null Count  Dtype \n",
            "---  ------    --------------  ----- \n",
            " 0   crop      200 non-null    object\n",
            " 1   moisture  200 non-null    int64 \n",
            " 2   temp      200 non-null    int64 \n",
            " 3   pump      200 non-null    int64 \n",
            "dtypes: int64(3), object(1)\n",
            "memory usage: 6.4+ KB\n"
          ]
        }
      ]
    },
    {
      "cell_type": "code",
      "source": [
        "x = ds.iloc[:,[1,2]].values\n",
        "y = ds.iloc[:, -1].values"
      ],
      "metadata": {
        "id": "uhIoxD-xhWQm"
      },
      "execution_count": 14,
      "outputs": []
    },
    {
      "cell_type": "code",
      "source": [
        "x"
      ],
      "metadata": {
        "colab": {
          "base_uri": "https://localhost:8080/"
        },
        "id": "N9UrzumohWdd",
        "outputId": "f26575d1-d427-41e8-b608-1011039dad2d"
      },
      "execution_count": 15,
      "outputs": [
        {
          "output_type": "execute_result",
          "data": {
            "text/plain": [
              "array([[ 638,   16],\n",
              "       [ 522,   18],\n",
              "       [ 741,   22],\n",
              "       [ 798,   32],\n",
              "       [ 690,   28],\n",
              "       [ 558,   23],\n",
              "       [ 578,   12],\n",
              "       [ 673,   35],\n",
              "       [ 642,   45],\n",
              "       [ 723,   11],\n",
              "       [ 671,   23],\n",
              "       [ 758,   34],\n",
              "       [ 507,   45],\n",
              "       [ 586,   33],\n",
              "       [ 703,   45],\n",
              "       [ 716,   25],\n",
              "       [ 724,   11],\n",
              "       [ 828,   41],\n",
              "       [ 633,   23],\n",
              "       [ 783,   18],\n",
              "       [ 635,   36],\n",
              "       [ 525,   33],\n",
              "       [ 636,   24],\n",
              "       [ 813,   15],\n",
              "       [ 736,   44],\n",
              "       [ 833,   13],\n",
              "       [ 808,   29],\n",
              "       [ 714,   14],\n",
              "       [ 806,   28],\n",
              "       [ 681,   31],\n",
              "       [ 661,   35],\n",
              "       [ 546,   32],\n",
              "       [ 759,   10],\n",
              "       [ 803,   21],\n",
              "       [ 670,   22],\n",
              "       [ 796,   21],\n",
              "       [ 665,   32],\n",
              "       [ 687,   11],\n",
              "       [ 573,   13],\n",
              "       [ 812,   38],\n",
              "       [ 698,   45],\n",
              "       [ 675,   39],\n",
              "       [ 700,   38],\n",
              "       [ 749,   38],\n",
              "       [ 537,   44],\n",
              "       [ 748,   27],\n",
              "       [ 824,   37],\n",
              "       [ 839,   29],\n",
              "       [ 740,   31],\n",
              "       [ 533,   42],\n",
              "       [ 775,   40],\n",
              "       [ 663,   24],\n",
              "       [ 639,   14],\n",
              "       [ 612,   31],\n",
              "       [ 580,   14],\n",
              "       [ 632,   14],\n",
              "       [ 535,   17],\n",
              "       [ 818,   15],\n",
              "       [ 503,   44],\n",
              "       [ 788,   12],\n",
              "       [ 513,   27],\n",
              "       [ 729,   41],\n",
              "       [ 659,   29],\n",
              "       [ 629,   41],\n",
              "       [ 641,   35],\n",
              "       [ 676,   30],\n",
              "       [ 739,   14],\n",
              "       [ 773,   20],\n",
              "       [ 792,   15],\n",
              "       [ 509,   19],\n",
              "       [ 682,   40],\n",
              "       [ 637,   29],\n",
              "       [ 769,   13],\n",
              "       [ 611,   12],\n",
              "       [ 574,   32],\n",
              "       [ 623,   32],\n",
              "       [ 539,   26],\n",
              "       [ 595,   30],\n",
              "       [ 683,   39],\n",
              "       [ 760,   18],\n",
              "       [ 697,   25],\n",
              "       [ 766,   39],\n",
              "       [ 768,   17],\n",
              "       [ 734,   16],\n",
              "       [ 579,   45],\n",
              "       [ 737,   34],\n",
              "       [ 699,   22],\n",
              "       [ 757,   43],\n",
              "       [ 624,   15],\n",
              "       [ 545,   29],\n",
              "       [ 850,   16],\n",
              "       [ 722,   26],\n",
              "       [ 795,   15],\n",
              "       [ 817,   18],\n",
              "       [ 830,   44],\n",
              "       [ 843,   41],\n",
              "       [ 553,   35],\n",
              "       [ 837,   30],\n",
              "       [ 588,   18],\n",
              "       [ 733,   26],\n",
              "       [  89,   42],\n",
              "       [  76,   35],\n",
              "       [ 434,   19],\n",
              "       [ 487,   16],\n",
              "       [ 493,   18],\n",
              "       [ 421,   39],\n",
              "       [ 379,   23],\n",
              "       [ 177,   12],\n",
              "       [ 482,   27],\n",
              "       [ 168,   10],\n",
              "       [ 208,   39],\n",
              "       [ 162,   29],\n",
              "       [ 306,   25],\n",
              "       [ 394,   27],\n",
              "       [ 184,   29],\n",
              "       [ 429,   17],\n",
              "       [  81,   20],\n",
              "       [ 158,   17],\n",
              "       [ 435,   10],\n",
              "       [ 401,   17],\n",
              "       [ 271,   33],\n",
              "       [ 161,   18],\n",
              "       [ 124,   40],\n",
              "       [  26,   23],\n",
              "       [ 175,   15],\n",
              "       [ 293,   25],\n",
              "       [ 354,   20],\n",
              "       [ 245,   43],\n",
              "       [ 462,   32],\n",
              "       [ 466,   41],\n",
              "       [  75,   37],\n",
              "       [ 209,   43],\n",
              "       [ 304,   43],\n",
              "       [ 256,   40],\n",
              "       [ 141,   43],\n",
              "       [ 302,   23],\n",
              "       [  87,   12],\n",
              "       [  72,   13],\n",
              "       [   4,   42],\n",
              "       [ 178,   39],\n",
              "       [  36,   16],\n",
              "       [  39,   38],\n",
              "       [ 107,   31],\n",
              "       [  21,   37],\n",
              "       [  59,   20],\n",
              "       [ 206,   37],\n",
              "       [ 143,   43],\n",
              "       [  52,   44],\n",
              "       [ 149,   24],\n",
              "       [  74,   20],\n",
              "       [ 861,   33],\n",
              "       [ 938,   14],\n",
              "       [ 981,   36],\n",
              "       [1019,   37],\n",
              "       [ 876,   40],\n",
              "       [1020,   27],\n",
              "       [ 933,   42],\n",
              "       [ 889,   39],\n",
              "       [ 865,   17],\n",
              "       [ 920,   10],\n",
              "       [ 926,   18],\n",
              "       [ 923,   10],\n",
              "       [ 853,   29],\n",
              "       [ 922,   23],\n",
              "       [ 998,   28],\n",
              "       [ 966,   16],\n",
              "       [ 950,   13],\n",
              "       [1001,   36],\n",
              "       [ 930,   18],\n",
              "       [ 999,   30],\n",
              "       [ 873,   44],\n",
              "       [ 969,   39],\n",
              "       [ 881,   26],\n",
              "       [ 896,   42],\n",
              "       [ 857,   20],\n",
              "       [1010,   10],\n",
              "       [ 947,   41],\n",
              "       [ 859,   20],\n",
              "       [1005,   43],\n",
              "       [ 937,   28],\n",
              "       [ 893,   39],\n",
              "       [ 872,   10],\n",
              "       [ 878,   29],\n",
              "       [ 883,   40],\n",
              "       [ 888,   44],\n",
              "       [1009,   21],\n",
              "       [ 917,   33],\n",
              "       [ 974,   28],\n",
              "       [ 858,   19],\n",
              "       [ 918,   19],\n",
              "       [1021,   22],\n",
              "       [ 986,   36],\n",
              "       [ 968,   17],\n",
              "       [1015,   35],\n",
              "       [ 914,   35],\n",
              "       [ 941,   13],\n",
              "       [ 902,   45],\n",
              "       [ 894,   42],\n",
              "       [1022,   45],\n",
              "       [ 979,   10]])"
            ]
          },
          "metadata": {},
          "execution_count": 15
        }
      ]
    },
    {
      "cell_type": "code",
      "source": [
        "y"
      ],
      "metadata": {
        "colab": {
          "base_uri": "https://localhost:8080/"
        },
        "id": "QBUqR2uKhWmy",
        "outputId": "69b57080-c2ac-4ae7-a3bd-98ce781e35be"
      },
      "execution_count": 16,
      "outputs": [
        {
          "output_type": "execute_result",
          "data": {
            "text/plain": [
              "array([1, 1, 1, 1, 1, 1, 1, 1, 1, 1, 1, 1, 1, 1, 1, 1, 1, 1, 1, 1, 1, 1,\n",
              "       1, 1, 1, 1, 1, 1, 1, 1, 1, 1, 1, 1, 1, 1, 1, 1, 1, 1, 1, 1, 1, 1,\n",
              "       1, 1, 1, 1, 1, 1, 1, 1, 1, 1, 1, 1, 1, 1, 1, 1, 1, 1, 1, 1, 1, 1,\n",
              "       1, 1, 1, 1, 1, 1, 1, 1, 1, 1, 1, 1, 1, 1, 1, 1, 1, 1, 1, 1, 1, 1,\n",
              "       1, 1, 1, 1, 1, 1, 1, 1, 1, 1, 1, 1, 0, 0, 0, 0, 0, 0, 0, 0, 0, 0,\n",
              "       0, 0, 0, 0, 0, 0, 0, 0, 0, 0, 0, 0, 0, 0, 0, 0, 0, 0, 0, 0, 0, 0,\n",
              "       0, 0, 0, 0, 0, 0, 0, 0, 0, 0, 0, 0, 0, 0, 0, 0, 0, 0, 1, 1, 1, 1,\n",
              "       1, 1, 1, 1, 1, 1, 1, 1, 1, 1, 1, 1, 1, 1, 1, 1, 1, 1, 1, 1, 1, 1,\n",
              "       1, 1, 1, 1, 1, 1, 1, 1, 1, 1, 1, 1, 1, 1, 1, 1, 1, 1, 1, 1, 1, 1,\n",
              "       1, 1])"
            ]
          },
          "metadata": {},
          "execution_count": 16
        }
      ]
    },
    {
      "cell_type": "code",
      "source": [
        "from sklearn.model_selection import train_test_split #membagi data train dan tes\n",
        "x_train, x_test, y_train, y_test = train_test_split(x, y, test_size=0.25, random_state=0) #variabel baru\n",
        "print(x_train)"
      ],
      "metadata": {
        "colab": {
          "base_uri": "https://localhost:8080/"
        },
        "id": "K1ivjdjehWu8",
        "outputId": "71302b9d-8f8d-4ad8-895e-5768ef6d8126"
      },
      "execution_count": 17,
      "outputs": [
        {
          "output_type": "stream",
          "name": "stdout",
          "text": [
            "[[ 637   29]\n",
            " [ 175   15]\n",
            " [ 888   44]\n",
            " [ 837   30]\n",
            " [  74   20]\n",
            " [ 736   44]\n",
            " [ 661   35]\n",
            " [ 926   18]\n",
            " [ 698   45]\n",
            " [ 535   17]\n",
            " [ 209   43]\n",
            " [ 553   35]\n",
            " [ 872   10]\n",
            " [ 783   18]\n",
            " [1019   37]\n",
            " [ 795   15]\n",
            " [ 580   14]\n",
            " [ 922   23]\n",
            " [ 663   24]\n",
            " [ 699   22]\n",
            " [ 178   39]\n",
            " [ 850   16]\n",
            " [  72   13]\n",
            " [  76   35]\n",
            " [  59   20]\n",
            " [ 545   29]\n",
            " [ 168   10]\n",
            " [ 703   45]\n",
            " [ 714   14]\n",
            " [  39   38]\n",
            " [ 974   28]\n",
            " [ 824   37]\n",
            " [   4   42]\n",
            " [ 941   13]\n",
            " [ 482   27]\n",
            " [ 659   29]\n",
            " [ 741   22]\n",
            " [ 788   12]\n",
            " [  87   12]\n",
            " [ 894   42]\n",
            " [ 749   38]\n",
            " [ 671   23]\n",
            " [ 914   35]\n",
            " [ 611   12]\n",
            " [ 902   45]\n",
            " [1005   43]\n",
            " [1010   10]\n",
            " [ 354   20]\n",
            " [ 817   18]\n",
            " [ 306   25]\n",
            " [ 865   17]\n",
            " [ 986   36]\n",
            " [ 775   40]\n",
            " [ 638   16]\n",
            " [ 830   44]\n",
            " [ 208   39]\n",
            " [ 843   41]\n",
            " [ 641   35]\n",
            " [1001   36]\n",
            " [ 675   39]\n",
            " [ 509   19]\n",
            " [ 533   42]\n",
            " [ 740   31]\n",
            " [ 737   34]\n",
            " [ 586   33]\n",
            " [ 923   10]\n",
            " [ 813   15]\n",
            " [ 917   33]\n",
            " [ 302   23]\n",
            " [ 635   36]\n",
            " [ 716   25]\n",
            " [ 683   39]\n",
            " [ 493   18]\n",
            " [ 639   14]\n",
            " [  89   42]\n",
            " [ 539   26]\n",
            " [ 798   32]\n",
            " [  81   20]\n",
            " [ 998   28]\n",
            " [1022   45]\n",
            " [ 578   12]\n",
            " [ 792   15]\n",
            " [ 579   45]\n",
            " [ 161   18]\n",
            " [1020   27]\n",
            " [ 969   39]\n",
            " [ 933   42]\n",
            " [ 722   26]\n",
            " [ 979   10]\n",
            " [ 758   34]\n",
            " [ 401   17]\n",
            " [ 434   19]\n",
            " [ 796   21]\n",
            " [ 818   15]\n",
            " [ 676   30]\n",
            " [ 522   18]\n",
            " [ 271   33]\n",
            " [ 853   29]\n",
            " [ 700   38]\n",
            " [ 421   39]\n",
            " [ 304   43]\n",
            " [ 896   42]\n",
            " [ 828   41]\n",
            " [ 573   13]\n",
            " [ 256   40]\n",
            " [ 612   31]\n",
            " [ 889   39]\n",
            " [ 462   32]\n",
            " [ 670   22]\n",
            " [ 806   28]\n",
            " [ 184   29]\n",
            " [ 938   14]\n",
            " [ 546   32]\n",
            " [ 950   13]\n",
            " [ 245   43]\n",
            " [ 947   41]\n",
            " [ 759   10]\n",
            " [ 107   31]\n",
            " [ 999   30]\n",
            " [  52   44]\n",
            " [ 681   31]\n",
            " [ 733   26]\n",
            " [ 768   17]\n",
            " [ 760   18]\n",
            " [ 429   17]\n",
            " [ 149   24]\n",
            " [1015   35]\n",
            " [ 769   13]\n",
            " [ 595   30]\n",
            " [ 833   13]\n",
            " [ 966   16]\n",
            " [ 766   39]\n",
            " [ 858   19]\n",
            " [ 857   20]\n",
            " [1021   22]\n",
            " [ 812   38]\n",
            " [ 503   44]\n",
            " [  36   16]\n",
            " [ 624   15]\n",
            " [ 682   40]\n",
            " [ 757   43]\n",
            " [ 665   32]\n",
            " [ 525   33]\n",
            " [ 723   11]\n",
            " [ 487   16]\n",
            " [ 773   20]\n",
            " [ 968   17]\n",
            " [ 158   17]\n",
            " [ 839   29]\n",
            " [ 881   26]]\n"
          ]
        }
      ]
    },
    {
      "cell_type": "code",
      "source": [
        "len(x_train) #total yang sudah dibagi untuk train"
      ],
      "metadata": {
        "colab": {
          "base_uri": "https://localhost:8080/"
        },
        "id": "LqlELnuohW6L",
        "outputId": "fa385b19-5b87-47c5-b787-ffcf903c0394"
      },
      "execution_count": 18,
      "outputs": [
        {
          "output_type": "execute_result",
          "data": {
            "text/plain": [
              "150"
            ]
          },
          "metadata": {},
          "execution_count": 18
        }
      ]
    },
    {
      "cell_type": "code",
      "source": [
        "len(x) #total semua data sebelum dibagi"
      ],
      "metadata": {
        "colab": {
          "base_uri": "https://localhost:8080/"
        },
        "id": "RDFBRFw3hjEB",
        "outputId": "2575281b-c274-4be3-ee63-8a4cc73e62f1"
      },
      "execution_count": 19,
      "outputs": [
        {
          "output_type": "execute_result",
          "data": {
            "text/plain": [
              "200"
            ]
          },
          "metadata": {},
          "execution_count": 19
        }
      ]
    },
    {
      "cell_type": "code",
      "source": [
        "len(x_test) #total test"
      ],
      "metadata": {
        "colab": {
          "base_uri": "https://localhost:8080/"
        },
        "id": "Y-047oZQhjGd",
        "outputId": "a8911c2c-6c5c-4f43-e361-2f80694a54d9"
      },
      "execution_count": 20,
      "outputs": [
        {
          "output_type": "execute_result",
          "data": {
            "text/plain": [
              "50"
            ]
          },
          "metadata": {},
          "execution_count": 20
        }
      ]
    },
    {
      "cell_type": "code",
      "source": [
        "print(y_train)"
      ],
      "metadata": {
        "colab": {
          "base_uri": "https://localhost:8080/"
        },
        "id": "uNilU3pvhjIz",
        "outputId": "ebfb074e-922d-4b75-e619-6281fbd3cbbe"
      },
      "execution_count": 21,
      "outputs": [
        {
          "output_type": "stream",
          "name": "stdout",
          "text": [
            "[1 0 1 1 0 1 1 1 1 1 0 1 1 1 1 1 1 1 1 1 0 1 0 0 0 1 0 1 1 0 1 1 0 1 0 1 1\n",
            " 1 0 1 1 1 1 1 1 1 1 0 1 0 1 1 1 1 1 0 1 1 1 1 1 1 1 1 1 1 1 1 0 1 1 1 0 1\n",
            " 0 1 1 0 1 1 1 1 1 0 1 1 1 1 1 1 0 0 1 1 1 1 0 1 1 0 0 1 1 1 0 1 1 0 1 1 0\n",
            " 1 1 1 0 1 1 0 1 0 1 1 1 1 0 0 1 1 1 1 1 1 1 1 1 1 1 0 1 1 1 1 1 1 0 1 1 0\n",
            " 1 1]\n"
          ]
        }
      ]
    },
    {
      "cell_type": "code",
      "source": [
        "len(y_train)"
      ],
      "metadata": {
        "colab": {
          "base_uri": "https://localhost:8080/"
        },
        "id": "tK2b-GkKhjL1",
        "outputId": "86252c49-6b66-4fb2-f3af-a1c0ca62346a"
      },
      "execution_count": 22,
      "outputs": [
        {
          "output_type": "execute_result",
          "data": {
            "text/plain": [
              "150"
            ]
          },
          "metadata": {},
          "execution_count": 22
        }
      ]
    },
    {
      "cell_type": "code",
      "source": [
        "from sklearn.preprocessing import StandardScaler\n",
        "sc = StandardScaler()\n",
        "x_train1 = sc.fit_transform(x_train)\n",
        "x_test1 = sc.fit_transform(x_test)"
      ],
      "metadata": {
        "id": "Gi24PgfPhqHb"
      },
      "execution_count": 23,
      "outputs": []
    },
    {
      "cell_type": "code",
      "source": [
        "print(x_train1)"
      ],
      "metadata": {
        "colab": {
          "base_uri": "https://localhost:8080/"
        },
        "id": "MQcSqrLBhqKG",
        "outputId": "c8914c37-88b7-406b-9ae0-6ae37b0c3c55"
      },
      "execution_count": 24,
      "outputs": [
        {
          "output_type": "stream",
          "name": "stdout",
          "text": [
            "[[-0.02646906  0.14049224]\n",
            " [-1.68948442 -1.14226299]\n",
            " [ 0.87703063  1.51487285]\n",
            " [ 0.69345101  0.23211761]\n",
            " [-2.05304406 -0.68413612]\n",
            " [ 0.32989137  1.51487285]\n",
            " [ 0.05992135  0.69024448]\n",
            " [ 1.01381544 -0.86738687]\n",
            " [ 0.19310656  1.60649822]\n",
            " [-0.3936283  -0.95901225]\n",
            " [-1.56709801  1.42324747]\n",
            " [-0.32883549  0.69024448]\n",
            " [ 0.81943702 -1.60038986]\n",
            " [ 0.49907259 -0.86738687]\n",
            " [ 1.34857827  0.87349523]\n",
            " [ 0.54226779 -1.14226299]\n",
            " [-0.23164628 -1.23388837]\n",
            " [ 0.99941704 -0.40926   ]\n",
            " [ 0.06712055 -0.31763463]\n",
            " [ 0.19670616 -0.50088538]\n",
            " [-1.67868562  1.05674598]\n",
            " [ 0.74024581 -1.05063762]\n",
            " [-2.06024326 -1.32551374]\n",
            " [-2.04584486  0.69024448]\n",
            " [-2.10703806 -0.68413612]\n",
            " [-0.35763229  0.14049224]\n",
            " [-1.71468162 -1.60038986]\n",
            " [ 0.21110456  1.60649822]\n",
            " [ 0.25070017 -1.23388837]\n",
            " [-2.17903007  0.9651206 ]\n",
            " [ 1.18659626  0.04886687]\n",
            " [ 0.6466562   0.87349523]\n",
            " [-2.30501608  1.3316221 ]\n",
            " [ 1.06780944 -1.32551374]\n",
            " [-0.58440712 -0.04275851]\n",
            " [ 0.05272215  0.14049224]\n",
            " [ 0.34788938 -0.50088538]\n",
            " [ 0.51707059 -1.41713912]\n",
            " [-2.00624925 -1.41713912]\n",
            " [ 0.89862823  1.3316221 ]\n",
            " [ 0.37668618  0.9651206 ]\n",
            " [ 0.09591735 -0.40926   ]\n",
            " [ 0.97062024  0.69024448]\n",
            " [-0.12005867 -1.41713912]\n",
            " [ 0.92742503  1.60649822]\n",
            " [ 1.29818387  1.42324747]\n",
            " [ 1.31618187 -1.60038986]\n",
            " [-1.04515596 -0.68413612]\n",
            " [ 0.621459   -0.86738687]\n",
            " [-1.21793678 -0.22600926]\n",
            " [ 0.79423982 -0.95901225]\n",
            " [ 1.22979146  0.78186986]\n",
            " [ 0.47027579  1.14837135]\n",
            " [-0.02286946 -1.05063762]\n",
            " [ 0.66825381  1.51487285]\n",
            " [-1.57069761  1.05674598]\n",
            " [ 0.71504861  1.23999673]\n",
            " [-0.01207066  0.69024448]\n",
            " [ 1.28378547  0.78186986]\n",
            " [ 0.11031575  1.05674598]\n",
            " [-0.48721791 -0.7757615 ]\n",
            " [-0.4008275   1.3316221 ]\n",
            " [ 0.34428977  0.32374299]\n",
            " [ 0.33349097  0.59861911]\n",
            " [-0.21004868  0.50699374]\n",
            " [ 1.00301664 -1.60038986]\n",
            " [ 0.6070606  -1.14226299]\n",
            " [ 0.98141904  0.50699374]\n",
            " [-1.23233518 -0.40926   ]\n",
            " [-0.03366826  0.78186986]\n",
            " [ 0.25789937 -0.22600926]\n",
            " [ 0.13911255  1.05674598]\n",
            " [-0.54481151 -0.86738687]\n",
            " [-0.01926986 -1.23388837]\n",
            " [-1.99905005  1.3316221 ]\n",
            " [-0.3792299  -0.13438388]\n",
            " [ 0.55306659  0.41536836]\n",
            " [-2.02784686 -0.68413612]\n",
            " [ 1.27298666  0.04886687]\n",
            " [ 1.35937707  1.60649822]\n",
            " [-0.23884548 -1.41713912]\n",
            " [ 0.53146899 -1.14226299]\n",
            " [-0.23524588  1.60649822]\n",
            " [-1.73987883 -0.86738687]\n",
            " [ 1.35217787 -0.04275851]\n",
            " [ 1.16859825  1.05674598]\n",
            " [ 1.03901264  1.3316221 ]\n",
            " [ 0.27949697 -0.13438388]\n",
            " [ 1.20459426 -1.60038986]\n",
            " [ 0.40908258  0.59861911]\n",
            " [-0.87597474 -0.95901225]\n",
            " [-0.75718793 -0.7757615 ]\n",
            " [ 0.54586739 -0.59251075]\n",
            " [ 0.6250586  -1.14226299]\n",
            " [ 0.11391535  0.23211761]\n",
            " [-0.4404231  -0.86738687]\n",
            " [-1.34392279  0.50699374]\n",
            " [ 0.75104461  0.14049224]\n",
            " [ 0.20030576  0.9651206 ]\n",
            " [-0.80398274  1.05674598]\n",
            " [-1.22513598  1.42324747]\n",
            " [ 0.90582743  1.3316221 ]\n",
            " [ 0.66105461  1.23999673]\n",
            " [-0.25684348 -1.32551374]\n",
            " [-1.39791679  1.14837135]\n",
            " [-0.11645907  0.32374299]\n",
            " [ 0.88063023  1.05674598]\n",
            " [-0.65639912  0.41536836]\n",
            " [ 0.09231775 -0.50088538]\n",
            " [ 0.5818634   0.04886687]\n",
            " [-1.65708802  0.14049224]\n",
            " [ 1.05701064 -1.23388837]\n",
            " [-0.35403269  0.41536836]\n",
            " [ 1.10020585 -1.32551374]\n",
            " [-1.4375124   1.42324747]\n",
            " [ 1.08940705  1.23999673]\n",
            " [ 0.41268218 -1.60038986]\n",
            " [-1.93425725  0.32374299]\n",
            " [ 1.27658627  0.23211761]\n",
            " [-2.13223527  1.51487285]\n",
            " [ 0.13191335  0.32374299]\n",
            " [ 0.31909257 -0.13438388]\n",
            " [ 0.44507858 -0.95901225]\n",
            " [ 0.41628178 -0.86738687]\n",
            " [-0.77518593 -0.95901225]\n",
            " [-1.78307403 -0.31763463]\n",
            " [ 1.33417987  0.69024448]\n",
            " [ 0.44867818 -1.32551374]\n",
            " [-0.17765228  0.23211761]\n",
            " [ 0.67905261 -1.32551374]\n",
            " [ 1.15779945 -1.05063762]\n",
            " [ 0.43787938  1.05674598]\n",
            " [ 0.76904262 -0.7757615 ]\n",
            " [ 0.76544302 -0.68413612]\n",
            " [ 1.35577747 -0.50088538]\n",
            " [ 0.603461    0.9651206 ]\n",
            " [-0.50881551  1.51487285]\n",
            " [-2.18982887 -1.05063762]\n",
            " [-0.07326387 -1.14226299]\n",
            " [ 0.13551295  1.14837135]\n",
            " [ 0.40548298  1.42324747]\n",
            " [ 0.07431975  0.41536836]\n",
            " [-0.4296243   0.50699374]\n",
            " [ 0.28309657 -1.50876449]\n",
            " [-0.56640911 -1.05063762]\n",
            " [ 0.46307659 -0.68413612]\n",
            " [ 1.16499865 -0.95901225]\n",
            " [-1.75067763 -0.95901225]\n",
            " [ 0.70065021  0.14049224]\n",
            " [ 0.85183342 -0.13438388]]\n"
          ]
        }
      ]
    },
    {
      "cell_type": "code",
      "source": [
        "x_train1"
      ],
      "metadata": {
        "colab": {
          "base_uri": "https://localhost:8080/"
        },
        "id": "DquuuOKmhqM2",
        "outputId": "b375fb0d-4fa6-4488-ccbc-787a56e19b16"
      },
      "execution_count": 25,
      "outputs": [
        {
          "output_type": "execute_result",
          "data": {
            "text/plain": [
              "array([[-0.02646906,  0.14049224],\n",
              "       [-1.68948442, -1.14226299],\n",
              "       [ 0.87703063,  1.51487285],\n",
              "       [ 0.69345101,  0.23211761],\n",
              "       [-2.05304406, -0.68413612],\n",
              "       [ 0.32989137,  1.51487285],\n",
              "       [ 0.05992135,  0.69024448],\n",
              "       [ 1.01381544, -0.86738687],\n",
              "       [ 0.19310656,  1.60649822],\n",
              "       [-0.3936283 , -0.95901225],\n",
              "       [-1.56709801,  1.42324747],\n",
              "       [-0.32883549,  0.69024448],\n",
              "       [ 0.81943702, -1.60038986],\n",
              "       [ 0.49907259, -0.86738687],\n",
              "       [ 1.34857827,  0.87349523],\n",
              "       [ 0.54226779, -1.14226299],\n",
              "       [-0.23164628, -1.23388837],\n",
              "       [ 0.99941704, -0.40926   ],\n",
              "       [ 0.06712055, -0.31763463],\n",
              "       [ 0.19670616, -0.50088538],\n",
              "       [-1.67868562,  1.05674598],\n",
              "       [ 0.74024581, -1.05063762],\n",
              "       [-2.06024326, -1.32551374],\n",
              "       [-2.04584486,  0.69024448],\n",
              "       [-2.10703806, -0.68413612],\n",
              "       [-0.35763229,  0.14049224],\n",
              "       [-1.71468162, -1.60038986],\n",
              "       [ 0.21110456,  1.60649822],\n",
              "       [ 0.25070017, -1.23388837],\n",
              "       [-2.17903007,  0.9651206 ],\n",
              "       [ 1.18659626,  0.04886687],\n",
              "       [ 0.6466562 ,  0.87349523],\n",
              "       [-2.30501608,  1.3316221 ],\n",
              "       [ 1.06780944, -1.32551374],\n",
              "       [-0.58440712, -0.04275851],\n",
              "       [ 0.05272215,  0.14049224],\n",
              "       [ 0.34788938, -0.50088538],\n",
              "       [ 0.51707059, -1.41713912],\n",
              "       [-2.00624925, -1.41713912],\n",
              "       [ 0.89862823,  1.3316221 ],\n",
              "       [ 0.37668618,  0.9651206 ],\n",
              "       [ 0.09591735, -0.40926   ],\n",
              "       [ 0.97062024,  0.69024448],\n",
              "       [-0.12005867, -1.41713912],\n",
              "       [ 0.92742503,  1.60649822],\n",
              "       [ 1.29818387,  1.42324747],\n",
              "       [ 1.31618187, -1.60038986],\n",
              "       [-1.04515596, -0.68413612],\n",
              "       [ 0.621459  , -0.86738687],\n",
              "       [-1.21793678, -0.22600926],\n",
              "       [ 0.79423982, -0.95901225],\n",
              "       [ 1.22979146,  0.78186986],\n",
              "       [ 0.47027579,  1.14837135],\n",
              "       [-0.02286946, -1.05063762],\n",
              "       [ 0.66825381,  1.51487285],\n",
              "       [-1.57069761,  1.05674598],\n",
              "       [ 0.71504861,  1.23999673],\n",
              "       [-0.01207066,  0.69024448],\n",
              "       [ 1.28378547,  0.78186986],\n",
              "       [ 0.11031575,  1.05674598],\n",
              "       [-0.48721791, -0.7757615 ],\n",
              "       [-0.4008275 ,  1.3316221 ],\n",
              "       [ 0.34428977,  0.32374299],\n",
              "       [ 0.33349097,  0.59861911],\n",
              "       [-0.21004868,  0.50699374],\n",
              "       [ 1.00301664, -1.60038986],\n",
              "       [ 0.6070606 , -1.14226299],\n",
              "       [ 0.98141904,  0.50699374],\n",
              "       [-1.23233518, -0.40926   ],\n",
              "       [-0.03366826,  0.78186986],\n",
              "       [ 0.25789937, -0.22600926],\n",
              "       [ 0.13911255,  1.05674598],\n",
              "       [-0.54481151, -0.86738687],\n",
              "       [-0.01926986, -1.23388837],\n",
              "       [-1.99905005,  1.3316221 ],\n",
              "       [-0.3792299 , -0.13438388],\n",
              "       [ 0.55306659,  0.41536836],\n",
              "       [-2.02784686, -0.68413612],\n",
              "       [ 1.27298666,  0.04886687],\n",
              "       [ 1.35937707,  1.60649822],\n",
              "       [-0.23884548, -1.41713912],\n",
              "       [ 0.53146899, -1.14226299],\n",
              "       [-0.23524588,  1.60649822],\n",
              "       [-1.73987883, -0.86738687],\n",
              "       [ 1.35217787, -0.04275851],\n",
              "       [ 1.16859825,  1.05674598],\n",
              "       [ 1.03901264,  1.3316221 ],\n",
              "       [ 0.27949697, -0.13438388],\n",
              "       [ 1.20459426, -1.60038986],\n",
              "       [ 0.40908258,  0.59861911],\n",
              "       [-0.87597474, -0.95901225],\n",
              "       [-0.75718793, -0.7757615 ],\n",
              "       [ 0.54586739, -0.59251075],\n",
              "       [ 0.6250586 , -1.14226299],\n",
              "       [ 0.11391535,  0.23211761],\n",
              "       [-0.4404231 , -0.86738687],\n",
              "       [-1.34392279,  0.50699374],\n",
              "       [ 0.75104461,  0.14049224],\n",
              "       [ 0.20030576,  0.9651206 ],\n",
              "       [-0.80398274,  1.05674598],\n",
              "       [-1.22513598,  1.42324747],\n",
              "       [ 0.90582743,  1.3316221 ],\n",
              "       [ 0.66105461,  1.23999673],\n",
              "       [-0.25684348, -1.32551374],\n",
              "       [-1.39791679,  1.14837135],\n",
              "       [-0.11645907,  0.32374299],\n",
              "       [ 0.88063023,  1.05674598],\n",
              "       [-0.65639912,  0.41536836],\n",
              "       [ 0.09231775, -0.50088538],\n",
              "       [ 0.5818634 ,  0.04886687],\n",
              "       [-1.65708802,  0.14049224],\n",
              "       [ 1.05701064, -1.23388837],\n",
              "       [-0.35403269,  0.41536836],\n",
              "       [ 1.10020585, -1.32551374],\n",
              "       [-1.4375124 ,  1.42324747],\n",
              "       [ 1.08940705,  1.23999673],\n",
              "       [ 0.41268218, -1.60038986],\n",
              "       [-1.93425725,  0.32374299],\n",
              "       [ 1.27658627,  0.23211761],\n",
              "       [-2.13223527,  1.51487285],\n",
              "       [ 0.13191335,  0.32374299],\n",
              "       [ 0.31909257, -0.13438388],\n",
              "       [ 0.44507858, -0.95901225],\n",
              "       [ 0.41628178, -0.86738687],\n",
              "       [-0.77518593, -0.95901225],\n",
              "       [-1.78307403, -0.31763463],\n",
              "       [ 1.33417987,  0.69024448],\n",
              "       [ 0.44867818, -1.32551374],\n",
              "       [-0.17765228,  0.23211761],\n",
              "       [ 0.67905261, -1.32551374],\n",
              "       [ 1.15779945, -1.05063762],\n",
              "       [ 0.43787938,  1.05674598],\n",
              "       [ 0.76904262, -0.7757615 ],\n",
              "       [ 0.76544302, -0.68413612],\n",
              "       [ 1.35577747, -0.50088538],\n",
              "       [ 0.603461  ,  0.9651206 ],\n",
              "       [-0.50881551,  1.51487285],\n",
              "       [-2.18982887, -1.05063762],\n",
              "       [-0.07326387, -1.14226299],\n",
              "       [ 0.13551295,  1.14837135],\n",
              "       [ 0.40548298,  1.42324747],\n",
              "       [ 0.07431975,  0.41536836],\n",
              "       [-0.4296243 ,  0.50699374],\n",
              "       [ 0.28309657, -1.50876449],\n",
              "       [-0.56640911, -1.05063762],\n",
              "       [ 0.46307659, -0.68413612],\n",
              "       [ 1.16499865, -0.95901225],\n",
              "       [-1.75067763, -0.95901225],\n",
              "       [ 0.70065021,  0.14049224],\n",
              "       [ 0.85183342, -0.13438388]])"
            ]
          },
          "metadata": {},
          "execution_count": 25
        }
      ]
    },
    {
      "cell_type": "code",
      "source": [
        "from sklearn.neighbors import KNeighborsClassifier\n",
        "classifier = KNeighborsClassifier(n_neighbors=5, metric='minkowski', p=2)\n",
        "classifier.fit(x_train1, y_train)\n"
      ],
      "metadata": {
        "colab": {
          "base_uri": "https://localhost:8080/",
          "height": 74
        },
        "id": "O3ywXH_nhvxe",
        "outputId": "18fd2a7c-6dbd-4e1c-aa2a-c91e49ca549c"
      },
      "execution_count": 26,
      "outputs": [
        {
          "output_type": "execute_result",
          "data": {
            "text/plain": [
              "KNeighborsClassifier()"
            ],
            "text/html": [
              "<style>#sk-container-id-1 {color: black;background-color: white;}#sk-container-id-1 pre{padding: 0;}#sk-container-id-1 div.sk-toggleable {background-color: white;}#sk-container-id-1 label.sk-toggleable__label {cursor: pointer;display: block;width: 100%;margin-bottom: 0;padding: 0.3em;box-sizing: border-box;text-align: center;}#sk-container-id-1 label.sk-toggleable__label-arrow:before {content: \"▸\";float: left;margin-right: 0.25em;color: #696969;}#sk-container-id-1 label.sk-toggleable__label-arrow:hover:before {color: black;}#sk-container-id-1 div.sk-estimator:hover label.sk-toggleable__label-arrow:before {color: black;}#sk-container-id-1 div.sk-toggleable__content {max-height: 0;max-width: 0;overflow: hidden;text-align: left;background-color: #f0f8ff;}#sk-container-id-1 div.sk-toggleable__content pre {margin: 0.2em;color: black;border-radius: 0.25em;background-color: #f0f8ff;}#sk-container-id-1 input.sk-toggleable__control:checked~div.sk-toggleable__content {max-height: 200px;max-width: 100%;overflow: auto;}#sk-container-id-1 input.sk-toggleable__control:checked~label.sk-toggleable__label-arrow:before {content: \"▾\";}#sk-container-id-1 div.sk-estimator input.sk-toggleable__control:checked~label.sk-toggleable__label {background-color: #d4ebff;}#sk-container-id-1 div.sk-label input.sk-toggleable__control:checked~label.sk-toggleable__label {background-color: #d4ebff;}#sk-container-id-1 input.sk-hidden--visually {border: 0;clip: rect(1px 1px 1px 1px);clip: rect(1px, 1px, 1px, 1px);height: 1px;margin: -1px;overflow: hidden;padding: 0;position: absolute;width: 1px;}#sk-container-id-1 div.sk-estimator {font-family: monospace;background-color: #f0f8ff;border: 1px dotted black;border-radius: 0.25em;box-sizing: border-box;margin-bottom: 0.5em;}#sk-container-id-1 div.sk-estimator:hover {background-color: #d4ebff;}#sk-container-id-1 div.sk-parallel-item::after {content: \"\";width: 100%;border-bottom: 1px solid gray;flex-grow: 1;}#sk-container-id-1 div.sk-label:hover label.sk-toggleable__label {background-color: #d4ebff;}#sk-container-id-1 div.sk-serial::before {content: \"\";position: absolute;border-left: 1px solid gray;box-sizing: border-box;top: 0;bottom: 0;left: 50%;z-index: 0;}#sk-container-id-1 div.sk-serial {display: flex;flex-direction: column;align-items: center;background-color: white;padding-right: 0.2em;padding-left: 0.2em;position: relative;}#sk-container-id-1 div.sk-item {position: relative;z-index: 1;}#sk-container-id-1 div.sk-parallel {display: flex;align-items: stretch;justify-content: center;background-color: white;position: relative;}#sk-container-id-1 div.sk-item::before, #sk-container-id-1 div.sk-parallel-item::before {content: \"\";position: absolute;border-left: 1px solid gray;box-sizing: border-box;top: 0;bottom: 0;left: 50%;z-index: -1;}#sk-container-id-1 div.sk-parallel-item {display: flex;flex-direction: column;z-index: 1;position: relative;background-color: white;}#sk-container-id-1 div.sk-parallel-item:first-child::after {align-self: flex-end;width: 50%;}#sk-container-id-1 div.sk-parallel-item:last-child::after {align-self: flex-start;width: 50%;}#sk-container-id-1 div.sk-parallel-item:only-child::after {width: 0;}#sk-container-id-1 div.sk-dashed-wrapped {border: 1px dashed gray;margin: 0 0.4em 0.5em 0.4em;box-sizing: border-box;padding-bottom: 0.4em;background-color: white;}#sk-container-id-1 div.sk-label label {font-family: monospace;font-weight: bold;display: inline-block;line-height: 1.2em;}#sk-container-id-1 div.sk-label-container {text-align: center;}#sk-container-id-1 div.sk-container {/* jupyter's `normalize.less` sets `[hidden] { display: none; }` but bootstrap.min.css set `[hidden] { display: none !important; }` so we also need the `!important` here to be able to override the default hidden behavior on the sphinx rendered scikit-learn.org. See: https://github.com/scikit-learn/scikit-learn/issues/21755 */display: inline-block !important;position: relative;}#sk-container-id-1 div.sk-text-repr-fallback {display: none;}</style><div id=\"sk-container-id-1\" class=\"sk-top-container\"><div class=\"sk-text-repr-fallback\"><pre>KNeighborsClassifier()</pre><b>In a Jupyter environment, please rerun this cell to show the HTML representation or trust the notebook. <br />On GitHub, the HTML representation is unable to render, please try loading this page with nbviewer.org.</b></div><div class=\"sk-container\" hidden><div class=\"sk-item\"><div class=\"sk-estimator sk-toggleable\"><input class=\"sk-toggleable__control sk-hidden--visually\" id=\"sk-estimator-id-1\" type=\"checkbox\" checked><label for=\"sk-estimator-id-1\" class=\"sk-toggleable__label sk-toggleable__label-arrow\">KNeighborsClassifier</label><div class=\"sk-toggleable__content\"><pre>KNeighborsClassifier()</pre></div></div></div></div></div>"
            ]
          },
          "metadata": {},
          "execution_count": 26
        }
      ]
    },
    {
      "cell_type": "code",
      "source": [
        "y_pred = classifier.predict(x_test)"
      ],
      "metadata": {
        "id": "aANkTwaOhx0O"
      },
      "execution_count": 27,
      "outputs": []
    },
    {
      "cell_type": "code",
      "source": [
        "y_pred"
      ],
      "metadata": {
        "colab": {
          "base_uri": "https://localhost:8080/"
        },
        "id": "F2e4kagBhx21",
        "outputId": "d87c6d0c-0959-476a-903d-502cacda3680"
      },
      "execution_count": 28,
      "outputs": [
        {
          "output_type": "execute_result",
          "data": {
            "text/plain": [
              "array([1, 1, 1, 1, 1, 1, 1, 1, 1, 1, 1, 1, 1, 1, 1, 1, 1, 1, 1, 1, 1, 1,\n",
              "       1, 1, 1, 1, 1, 1, 1, 1, 1, 1, 1, 1, 1, 1, 1, 1, 1, 1, 1, 1, 1, 1,\n",
              "       1, 1, 1, 1, 1, 1])"
            ]
          },
          "metadata": {},
          "execution_count": 28
        }
      ]
    },
    {
      "cell_type": "code",
      "source": [
        "print(y_pred)"
      ],
      "metadata": {
        "colab": {
          "base_uri": "https://localhost:8080/"
        },
        "id": "RpRlrrLxhx5Y",
        "outputId": "bda23a40-a956-45f7-b715-8f74798571fd"
      },
      "execution_count": 29,
      "outputs": [
        {
          "output_type": "stream",
          "name": "stdout",
          "text": [
            "[1 1 1 1 1 1 1 1 1 1 1 1 1 1 1 1 1 1 1 1 1 1 1 1 1 1 1 1 1 1 1 1 1 1 1 1 1\n",
            " 1 1 1 1 1 1 1 1 1 1 1 1 1]\n"
          ]
        }
      ]
    },
    {
      "cell_type": "code",
      "source": [
        "from sklearn.metrics import confusion_matrix\n",
        "cm = confusion_matrix(y_test, y_pred)\n",
        "cm"
      ],
      "metadata": {
        "colab": {
          "base_uri": "https://localhost:8080/"
        },
        "id": "hjGjrXuIhx77",
        "outputId": "e5cc6fc1-ef4e-4ea5-cefe-5d11a01d0453"
      },
      "execution_count": 30,
      "outputs": [
        {
          "output_type": "execute_result",
          "data": {
            "text/plain": [
              "array([[ 0, 14],\n",
              "       [ 0, 36]])"
            ]
          },
          "metadata": {},
          "execution_count": 30
        }
      ]
    },
    {
      "cell_type": "code",
      "source": [
        "from sklearn.metrics import classification_report\n",
        "akurasi = classification_report(y_test, y_pred)\n",
        "print (akurasi)"
      ],
      "metadata": {
        "colab": {
          "base_uri": "https://localhost:8080/"
        },
        "id": "jhahTRx5h3FE",
        "outputId": "6477afac-0acf-4f45-802f-9bbb81e4f809"
      },
      "execution_count": 31,
      "outputs": [
        {
          "output_type": "stream",
          "name": "stdout",
          "text": [
            "              precision    recall  f1-score   support\n",
            "\n",
            "           0       0.00      0.00      0.00        14\n",
            "           1       0.72      1.00      0.84        36\n",
            "\n",
            "    accuracy                           0.72        50\n",
            "   macro avg       0.36      0.50      0.42        50\n",
            "weighted avg       0.52      0.72      0.60        50\n",
            "\n"
          ]
        },
        {
          "output_type": "stream",
          "name": "stderr",
          "text": [
            "/usr/local/lib/python3.10/dist-packages/sklearn/metrics/_classification.py:1344: UndefinedMetricWarning: Precision and F-score are ill-defined and being set to 0.0 in labels with no predicted samples. Use `zero_division` parameter to control this behavior.\n",
            "  _warn_prf(average, modifier, msg_start, len(result))\n",
            "/usr/local/lib/python3.10/dist-packages/sklearn/metrics/_classification.py:1344: UndefinedMetricWarning: Precision and F-score are ill-defined and being set to 0.0 in labels with no predicted samples. Use `zero_division` parameter to control this behavior.\n",
            "  _warn_prf(average, modifier, msg_start, len(result))\n",
            "/usr/local/lib/python3.10/dist-packages/sklearn/metrics/_classification.py:1344: UndefinedMetricWarning: Precision and F-score are ill-defined and being set to 0.0 in labels with no predicted samples. Use `zero_division` parameter to control this behavior.\n",
            "  _warn_prf(average, modifier, msg_start, len(result))\n"
          ]
        }
      ]
    },
    {
      "cell_type": "code",
      "source": [
        "import matplotlib.pyplot as plt\n",
        "from matplotlib.colors import ListedColormap\n",
        "x_set, y_set = x_train, y_train\n",
        "x1, x2 = np.meshgrid(np.arange(start = x_set[:, 0].min()-1, stop = x_set[:, 0].max()+1, step = 0.01),\n",
        "                     np.arange(start = x_set[:, 1].min()-1, stop = x_set[:, 0].max()+1, step = 0.01))\n",
        "plt.contourf(x1, x2, classifier.predict(np.array([x1.ravel(), x2.ravel()]).T).reshape(x1.shape), alpha = 0.75, cmap = ListedColormap(('red', 'green')))\n",
        "plt.xlim(x1.min(), x1.max())\n",
        "plt.ylim(x2.min(), x2.max())\n",
        "for i, j in enumerate (np.unique(y_set)):\n",
        "    plt.scatter(x_set[y_set == j, 0], x_set[y_set == j, 1], c = ListedColormap(('red', 'green'))(i), label = j)\n",
        "plt.title('Klasifikasi Data dengan K-Nearest Neighbor')\n",
        "plt.xlabel('Moisture')\n",
        "plt.ylabel('Temp')\n",
        "plt.legend()\n",
        "plt.show()"
      ],
      "metadata": {
        "id": "PwjHnu2dh3Ht"
      },
      "execution_count": null,
      "outputs": []
    }
  ]
}